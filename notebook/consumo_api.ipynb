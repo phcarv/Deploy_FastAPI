{
 "cells": [
  {
   "cell_type": "code",
   "execution_count": 7,
   "metadata": {},
   "outputs": [],
   "source": [
    "import pandas as pd\n",
    "import requests\n",
    "import json"
   ]
  },
  {
   "cell_type": "code",
   "execution_count": 11,
   "metadata": {
    "scrolled": true
   },
   "outputs": [
    {
     "name": "stdout",
     "output_type": "stream",
     "text": [
      "{\"Prediction\":\"Iris-setosa\"}\n"
     ]
    }
   ],
   "source": [
    "url = 'http://35.175.141.255:80/predict'\n",
    "\n",
    "data = {'sepal_length': 4,\n",
    "        'sepal_width': 1,\n",
    "        'petal_length': 1,\n",
    "        'petal_width': 3}\n",
    "\n",
    "response = requests.post(url, json=data)\n",
    "print(response.text)"
   ]
  },
  {
   "cell_type": "code",
   "execution_count": 9,
   "metadata": {
    "scrolled": true
   },
   "outputs": [
    {
     "name": "stdout",
     "output_type": "stream",
     "text": [
      "{\"Prediction\":\"Iris-virginica\"}\n"
     ]
    }
   ],
   "source": [
    "url = 'http://ec2-35-175-141-255.compute-1.amazonaws.com:80/predict'\n",
    "\n",
    "data = {'sepal_length': 8,\n",
    "        'sepal_width': 9,\n",
    "        'petal_length': 7,\n",
    "        'petal_width': 2}\n",
    "\n",
    "response = requests.post(url, json=data)\n",
    "print(response.text)"
   ]
  }
 ],
 "metadata": {
  "kernelspec": {
   "display_name": "Python 3 (ipykernel)",
   "language": "python",
   "name": "python3"
  },
  "language_info": {
   "codemirror_mode": {
    "name": "ipython",
    "version": 3
   },
   "file_extension": ".py",
   "mimetype": "text/x-python",
   "name": "python",
   "nbconvert_exporter": "python",
   "pygments_lexer": "ipython3",
   "version": "3.9.12"
  }
 },
 "nbformat": 4,
 "nbformat_minor": 4
}
